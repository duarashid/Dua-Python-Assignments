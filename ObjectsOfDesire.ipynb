{
 "cells": [
  {
   "cell_type": "markdown",
   "metadata": {},
   "source": [
    "Create a class object of something that you love. Write at least 3 methods for it. Include some attributes.\n",
    "\n",
    "Items you love can be categorical: \n",
    "\n",
    "* Food  \n",
    "* Pets \n",
    "* Vehicles \n",
    "* Places \n",
    "* Activities \n",
    "* Things \n",
    "\n",
    "See examples below "
   ]
  },
  {
   "cell_type": "code",
   "execution_count": null,
   "metadata": {},
   "outputs": [],
   "source": [
    "# A class with two instance attributes\n",
    "class Item:\n",
    "\n",
    "    # initializer with instance attributes\n",
    "    def __init__(self, color, style):\n",
    "        self.color = color\n",
    "        self.style = style"
   ]
  },
  {
   "cell_type": "code",
   "execution_count": null,
   "metadata": {},
   "outputs": [],
   "source": [
    "# A class with one class attribute\n",
    "class Car:\n",
    "\n",
    "    # class attribute\n",
    "    wheels = 4\n",
    "\n",
    "    # initializer with instance attributes\n",
    "    def __init__(self, color, style):\n",
    "        self.color = color\n",
    "        self.style = style"
   ]
  },
  {
   "cell_type": "code",
   "execution_count": 26,
   "metadata": {},
   "outputs": [],
   "source": [
    "class Cat:\n",
    "    def __init__(self, name, breed, age, weight):\n",
    "        self.name = name\n",
    "        self.breed = breed\n",
    "        self.age = age\n",
    "        self.weight = weight\n",
    "        \n",
    "    def meow(self):\n",
    "        print(\"{} meows quietly.\".format(self.name))\n",
    "        \n",
    "    def eat(self, food):\n",
    "        if food == \"treat\":\n",
    "            print(f\"{self.name} happily eats the {food}.\")\n",
    "        else:\n",
    "            print(f\"{self.name} doesn't want to eat {food}.\")\n",
    "        \n",
    "    def sleep(self):\n",
    "        print(f\"{self.name} takes a nap.\")\n"
   ]
  },
  {
   "cell_type": "code",
   "execution_count": 27,
   "metadata": {},
   "outputs": [],
   "source": [
    "my_cat = Cat(\"Sonya\", \"Persian\", 5, 8)"
   ]
  },
  {
   "cell_type": "code",
   "execution_count": 242,
   "metadata": {
    "scrolled": true
   },
   "outputs": [
    {
     "name": "stdout",
     "output_type": "stream",
     "text": [
      "Sonya meows quietly.\n",
      "Sonya happily eats the treat.\n",
      "Sonya takes a nap.\n"
     ]
    }
   ],
   "source": [
    "my_cat.meow()  \n",
    "my_cat.eat(\"treat\")   \n",
    "my_cat.sleep()   "
   ]
  },
  {
   "cell_type": "code",
   "execution_count": 31,
   "metadata": {},
   "outputs": [],
   "source": [
    "class Coffee:\n",
    "    \n",
    "    def __init__(self, name, size, temp):\n",
    "        self.name = name #'type' was a Python protected word so I did 'name'\n",
    "        self.size = size\n",
    "        self.temp = temp\n",
    "        self.cost = 4 #had trouble setting 'cost' as an attribute\n",
    "\n",
    "    def add_sugar(self, sugar):\n",
    "        if sugar == 0:\n",
    "            self.cost += 0\n",
    "        elif sugar <= 3:\n",
    "            self.cost += 1\n",
    "            return f\"{self.name} with {sugar} packets of sugar added\"\n",
    "        elif 3 < sugar < 8:\n",
    "            self.cost += 2\n",
    "            return f\"{self.name} with {sugar} sugar added\"\n",
    "        else:\n",
    "            self.cost += 0\n",
    "            return f\"Go easy on the sugar, please!\"\n",
    "    \n",
    "\n",
    "    def add_flavor(self, flavor):\n",
    "        if flavor == \"none\":\n",
    "            self.cost += 0\n",
    "            return f\"{self.name} with no flavor added\"\n",
    "        else:\n",
    "            self.cost += 1\n",
    "            return f\"{self.name} with {flavor} added\"\n",
    "\n",
    "    def add_milk(self, milk):\n",
    "        if milk == \"none\":\n",
    "            self.cost += 0\n",
    "            return f\"{self.name} with no milk added\"\n",
    "        else:\n",
    "            self.cost += 1\n",
    "            return f\"{self.name} with {milk} milk added\""
   ]
  },
  {
   "cell_type": "code",
   "execution_count": 32,
   "metadata": {},
   "outputs": [],
   "source": [
    "my_coffee = Coffee(\"Cortado\", \"Small\", \"Iced\")"
   ]
  },
  {
   "cell_type": "code",
   "execution_count": 33,
   "metadata": {
    "scrolled": false
   },
   "outputs": [
    {
     "name": "stdout",
     "output_type": "stream",
     "text": [
      "Go easy on the sugar, please!\n",
      "Cortado with caramel added\n",
      "Cortado with whole milk added\n",
      "Total cost: $6\n"
     ]
    }
   ],
   "source": [
    "print(my_coffee.add_sugar(42))\n",
    "print(my_coffee.add_flavor(\"caramel\"))\n",
    "print(my_coffee.add_milk(\"whole\"))\n",
    "print(f\"Total cost: ${my_coffee.cost}\")"
   ]
  },
  {
   "cell_type": "code",
   "execution_count": null,
   "metadata": {},
   "outputs": [],
   "source": []
  },
  {
   "cell_type": "code",
   "execution_count": null,
   "metadata": {},
   "outputs": [],
   "source": []
  },
  {
   "cell_type": "code",
   "execution_count": null,
   "metadata": {},
   "outputs": [],
   "source": []
  },
  {
   "cell_type": "code",
   "execution_count": null,
   "metadata": {},
   "outputs": [],
   "source": []
  }
 ],
 "metadata": {
  "kernelspec": {
   "display_name": "Python 3 (ipykernel)",
   "language": "python",
   "name": "python3"
  },
  "language_info": {
   "codemirror_mode": {
    "name": "ipython",
    "version": 3
   },
   "file_extension": ".py",
   "mimetype": "text/x-python",
   "name": "python",
   "nbconvert_exporter": "python",
   "pygments_lexer": "ipython3",
   "version": "3.9.13"
  }
 },
 "nbformat": 4,
 "nbformat_minor": 2
}
