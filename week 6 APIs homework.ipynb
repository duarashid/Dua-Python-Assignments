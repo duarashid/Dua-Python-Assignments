{
 "cells": [
  {
   "cell_type": "code",
   "execution_count": null,
   "id": "686308e3",
   "metadata": {},
   "outputs": [],
   "source": [
    "#For this week's assignment, I used the Spoonacular API. I found it immensely interesting because it is a free resource \n",
    "#that students can greatly benefit from. Services such as Hello Fresh provide the same service but charge for it. Using\n",
    "#this API, I was able to do a number of things. The API offers much more, too. \n",
    "\n",
    "#I called a request that would show me titles of products according to the query I input\n",
    "\n",
    "#Converting is a crucial tool in the kitchen. I called a request to convert a specific ingredient in a certain unit and \n",
    "#quantity to another unit\n",
    "\n",
    "#Students are always short on time. I called a request that would take a recipe ID and show me a summary of the recipe for it\n",
    "#so that I don't have to read the entire recipe to see if I wish to make it\n",
    "\n",
    "#This one was my favorite. As students are mostly on a budget and wish to buy as less ingredients as possible, I called a \n",
    "#request that would take the ingredients I have at home and shows me a recipe that minimizes other ingredients used\n",
    "#for that recipe. I entered a number of parameters for this one by reading the documentation. I specifically asked to see the\n",
    "#missing ingredients for this one\n",
    "\n",
    "#This was my second favorite. I made a request that would return one food joke everytime it runs\n",
    "\n",
    "#***\n",
    "\n",
    "#This assignment got me very good at reading API documentation. It also made me a learn and utilize a slightly new technique\n",
    "#that is JSON formatting the request response and loading it into a Python object. Then, initiating a For loop in the object \n",
    "#dictionary to retrieve a specific key or value. I did this in the 1st and 4th requests. "
   ]
  },
  {
   "cell_type": "code",
   "execution_count": 104,
   "id": "4c51fbae",
   "metadata": {},
   "outputs": [
    {
     "name": "stdout",
     "output_type": "stream",
     "text": [
      "Hostess Cherry Fruit Pie Single Serve, 4.25 oz\n",
      "Pie Fllng Bluebry, 24 Oz (pack Of 6)\n",
      "Marie Callender's Frozen Pie Dessert, Apple, 10 Ounce\n",
      "Tastykake® Glazed Cherry Pie 4.5 oz. Wrapper\n",
      "Marie Callender's Frozen Pie Dessert, Blueberry, 39 Ounce\n",
      "Marie Callender's Frozen Pie Dessert, Lattice Peach, 40 Ounce\n",
      "Marie Callender's Frozen Pie Dessert, Cherry Crunch, 40 Ounce\n",
      "Banquet Apple Pie, Frozen Dessert, 7 OZ\n",
      "Banquet Peach Pie, Frozen Dessert, 7 OZ\n",
      "Marie Callender's Frozen Mini Pie Dessert, 2 Mini Coconut Cream Pies, 7.5 Ounce\n"
     ]
    }
   ],
   "source": [
    "import requests\n",
    "import json\n",
    "\n",
    "api_key = '1fb274c03e844a5595bae6b89b0498e9'\n",
    "query = 'pie'\n",
    "\n",
    "response = requests.get(f\"https://api.spoonacular.com/food/products/search?query={query}&apiKey={api_key}\")\n",
    "\n",
    "food_json = json.loads(response.content)\n",
    "\n",
    "for food in food_json[\"products\"]:\n",
    "    print (food['title'])"
   ]
  },
  {
   "cell_type": "code",
   "execution_count": 40,
   "id": "b17b9bdc",
   "metadata": {},
   "outputs": [
    {
     "name": "stdout",
     "output_type": "stream",
     "text": [
      "{'sourceAmount': 3.0, 'sourceUnit': 'cup', 'targetAmount': 709.76, 'targetUnit': 'ml', 'answer': '3 cup milk translates to 709.76 ml.', 'type': 'CONVERSION'}\n"
     ]
    }
   ],
   "source": [
    "import requests\n",
    "\n",
    "api_key = '1fb274c03e844a5595bae6b89b0498e9'\n",
    "ingredient_name = 'milk'\n",
    "source_amount = 3\n",
    "source_unit= 'cup'\n",
    "target_unit= 'ml'\n",
    "\n",
    "response = requests.get(f'https://api.spoonacular.com/recipes/convert?&apiKey={api_key}&ingredientName={ingredient_name}&sourceAmount={source_amount}&sourceUnit={source_unit}&targetUnit={target_unit}')\n",
    "\n",
    "data = response.json()\n",
    "print(data)"
   ]
  },
  {
   "cell_type": "code",
   "execution_count": 32,
   "id": "19fc203a",
   "metadata": {},
   "outputs": [
    {
     "name": "stdout",
     "output_type": "stream",
     "text": [
      "{'id': 4632, 'title': 'Soy-and-Ginger-Glazed Salmon with Udon Noodles', 'summary': 'Soy-and-Ginger-Glazed Salmon with Udon Noodles is a <b>dairy free and pescatarian</b> main course. One serving contains <b>552 calories</b>, <b>48g of protein</b>, and <b>17g of fat</b>. This recipe serves 4 and costs $5.91 per serving. This recipe from Food and Wine requires ginger, lime juice, olive oil, and spinach. 1 person has made this recipe and would make it again. From preparation to the plate, this recipe takes roughly <b>1 hour and 35 minutes</b>. All things considered, we decided this recipe <b>deserves a spoonacular score of 93%</b>. This score is great. If you like this recipe, take a look at these similar recipes: <a href=\"https://spoonacular.com/recipes/soy-and-ginger-glazed-salmon-with-udon-noodles-1360935\">Soy-and-Ginger-Glazed Salmon with Udon Noodles</a>, <a href=\"https://spoonacular.com/recipes/soy-and-ginger-glazed-salmon-with-udon-noodles-1309259\">Soy-and-Ginger-Glazed Salmon with Udon Noodles</a>, and <a href=\"https://spoonacular.com/recipes/soy-and-ginger-glazed-salmon-with-udon-noodles-1321839\">Soy-and-Ginger-Glazed Salmon with Udon Noodles</a>.'}\n"
     ]
    }
   ],
   "source": [
    "import requests\n",
    "\n",
    "api_key = '1fb274c03e844a5595bae6b89b0498e9'\n",
    "id = 4632\n",
    "\n",
    "response = requests.get(f'https://api.spoonacular.com/recipes/{id}/summary?apiKey={api_key}')\n",
    "\n",
    "data = response.json()\n",
    "print(data)"
   ]
  },
  {
   "cell_type": "code",
   "execution_count": 79,
   "id": "5e9c4fcd",
   "metadata": {},
   "outputs": [
    {
     "name": "stdout",
     "output_type": "stream",
     "text": [
      "[{'id': 19336, 'amount': 3.0, 'unit': 'cups', 'unitLong': 'cups', 'unitShort': 'cup', 'aisle': 'Baking', 'name': 'powdered sugar', 'original': '3-4 cups powdered sugar', 'originalName': 'powdered sugar', 'meta': [], 'image': 'https://spoonacular.com/cdn/ingredients_100x100/powdered-sugar.jpg'}, {'id': 1052050, 'amount': 2.0, 'unit': 'tsp', 'unitLong': 'teaspoons', 'unitShort': 'tsp', 'aisle': 'Baking', 'name': 'vanilla', 'original': '2 tsp.vanilla', 'originalName': 'vanilla', 'meta': [], 'image': 'https://spoonacular.com/cdn/ingredients_100x100/vanilla.jpg'}]\n",
      "[{'id': 5062, 'amount': 4.0, 'unit': '', 'unitLong': '', 'unitShort': '', 'aisle': 'Meat', 'name': 'chicken breasts halves', 'original': '4 boneless chicken breasts halves', 'originalName': 'boneless chicken breasts halves', 'meta': ['boneless'], 'extendedName': 'boneless chicken breasts halves', 'image': 'https://spoonacular.com/cdn/ingredients_100x100/chicken-breasts.png'}, {'id': 1022020, 'amount': 2.0, 'unit': 'teaspoons', 'unitLong': 'teaspoons', 'unitShort': 'tsp', 'aisle': 'Spices and Seasonings', 'name': 'garlic powder', 'original': '2 teaspoons garlic powder', 'originalName': 'garlic powder', 'meta': [], 'image': 'https://spoonacular.com/cdn/ingredients_100x100/garlic-powder.png'}, {'id': 2028, 'amount': 8.0, 'unit': 'teaspoons', 'unitLong': 'teaspoons', 'unitShort': 'tsp', 'aisle': 'Spices and Seasonings', 'name': 'paprika', 'original': '8 teaspoons paprika', 'originalName': 'paprika', 'meta': [], 'image': 'https://spoonacular.com/cdn/ingredients_100x100/paprika.jpg'}]\n"
     ]
    }
   ],
   "source": [
    "import requests\n",
    "\n",
    "api_key = '1fb274c03e844a5595bae6b89b0498e9'\n",
    "ingredients = 'milk, butter, cheese'\n",
    "number = 2\n",
    "limit_license = 'true'\n",
    "ranking = 1\n",
    "ignore_pantry = 'false'\n",
    "\n",
    "\n",
    "response = requests.get(f'https://api.spoonacular.com/recipes/findByIngredients?&apiKey={api_key}&ingredients={ingredients}&number={number}&limitLicense={limit_license}&ranking={ranking}&ignorePantry={ignore_pantry}')\n",
    "\n",
    "food_json = json.loads(response.content)\n",
    "    \n",
    "for food in food_json:\n",
    "    print (food['missedIngredients'])"
   ]
  },
  {
   "cell_type": "code",
   "execution_count": 86,
   "id": "c584b812",
   "metadata": {},
   "outputs": [
    {
     "name": "stdout",
     "output_type": "stream",
     "text": [
      "{'text': 'A sweet little boy surprised his grandmother one morning and brought her a cup of coffee. He made it himself and was so proud. He anxiously waited to hear the verdict on the quality of the coffee. The grandmother had never in her life had such a bad cup of coffee, and as she forced down the last sip she noticed three of those little green army guys in the bottom of the cup.\\nShe asked, \"Honey, why would three little green army guys be in the bottom of my cup?\"\\nHer grandson replied, \"You know grandma, it\\'s like on TV, \\'The best part of waking up is soldiers in your cup.\\'\"'}\n"
     ]
    }
   ],
   "source": [
    "import requests\n",
    "\n",
    "api_key = '1fb274c03e844a5595bae6b89b0498e9'\n",
    "\n",
    "response = requests.get(f'https://api.spoonacular.com/food/jokes/random?apiKey={api_key}')\n",
    "\n",
    "data = response.json()\n",
    "print(data)"
   ]
  },
  {
   "cell_type": "code",
   "execution_count": null,
   "id": "e5991c87",
   "metadata": {},
   "outputs": [],
   "source": []
  }
 ],
 "metadata": {
  "kernelspec": {
   "display_name": "Python 3 (ipykernel)",
   "language": "python",
   "name": "python3"
  },
  "language_info": {
   "codemirror_mode": {
    "name": "ipython",
    "version": 3
   },
   "file_extension": ".py",
   "mimetype": "text/x-python",
   "name": "python",
   "nbconvert_exporter": "python",
   "pygments_lexer": "ipython3",
   "version": "3.9.13"
  }
 },
 "nbformat": 4,
 "nbformat_minor": 5
}
