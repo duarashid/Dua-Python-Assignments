{
 "cells": [
  {
   "cell_type": "code",
   "execution_count": null,
   "id": "21bf7244",
   "metadata": {},
   "outputs": [],
   "source": [
    "# I tried getting pictures that look the same as much as I could, and then I did some general web scraping on Books To Scrape\n",
    "# so I could explore what it's about and play around with it. "
   ]
  },
  {
   "cell_type": "code",
   "execution_count": 6,
   "id": "4b43bdfb",
   "metadata": {},
   "outputs": [
    {
     "data": {
      "text/plain": [
       "[<img class=\"thumbimage\" data-file-height=\"1845\" data-file-width=\"2767\" decoding=\"async\" height=\"147\" src=\"//upload.wikimedia.org/wikipedia/commons/thumb/d/df/Remise_du_Prix_Sakharov_%C3%A0_Malala_Yousafzai_Strasbourg_20_novembre_2013_01.jpg/220px-Remise_du_Prix_Sakharov_%C3%A0_Malala_Yousafzai_Strasbourg_20_novembre_2013_01.jpg\" srcset=\"//upload.wikimedia.org/wikipedia/commons/thumb/d/df/Remise_du_Prix_Sakharov_%C3%A0_Malala_Yousafzai_Strasbourg_20_novembre_2013_01.jpg/330px-Remise_du_Prix_Sakharov_%C3%A0_Malala_Yousafzai_Strasbourg_20_novembre_2013_01.jpg 1.5x, //upload.wikimedia.org/wikipedia/commons/thumb/d/df/Remise_du_Prix_Sakharov_%C3%A0_Malala_Yousafzai_Strasbourg_20_novembre_2013_01.jpg/440px-Remise_du_Prix_Sakharov_%C3%A0_Malala_Yousafzai_Strasbourg_20_novembre_2013_01.jpg 2x\" width=\"220\"/>,\n",
       " <img class=\"thumbimage\" data-file-height=\"174\" data-file-width=\"430\" decoding=\"async\" height=\"121\" src=\"//upload.wikimedia.org/wikipedia/commons/thumb/7/75/Malala_Yousafzai_Role_Models_2.jpg/300px-Malala_Yousafzai_Role_Models_2.jpg\" srcset=\"//upload.wikimedia.org/wikipedia/commons/7/75/Malala_Yousafzai_Role_Models_2.jpg 1.5x\" width=\"300\"/>,\n",
       " <img class=\"thumbimage\" data-file-height=\"1900\" data-file-width=\"2830\" decoding=\"async\" height=\"148\" src=\"//upload.wikimedia.org/wikipedia/commons/thumb/9/9b/Benazir_bhutto_1989.jpg/220px-Benazir_bhutto_1989.jpg\" srcset=\"//upload.wikimedia.org/wikipedia/commons/thumb/9/9b/Benazir_bhutto_1989.jpg/330px-Benazir_bhutto_1989.jpg 1.5x, //upload.wikimedia.org/wikipedia/commons/thumb/9/9b/Benazir_bhutto_1989.jpg/440px-Benazir_bhutto_1989.jpg 2x\" width=\"220\"/>,\n",
       " <img class=\"thumbimage\" data-file-height=\"2691\" data-file-width=\"4000\" decoding=\"async\" height=\"148\" src=\"//upload.wikimedia.org/wikipedia/commons/thumb/6/6f/Malala_Yousafzai_Oval_Office_11_Oct_2013.jpg/220px-Malala_Yousafzai_Oval_Office_11_Oct_2013.jpg\" srcset=\"//upload.wikimedia.org/wikipedia/commons/thumb/6/6f/Malala_Yousafzai_Oval_Office_11_Oct_2013.jpg/330px-Malala_Yousafzai_Oval_Office_11_Oct_2013.jpg 1.5x, //upload.wikimedia.org/wikipedia/commons/thumb/6/6f/Malala_Yousafzai_Oval_Office_11_Oct_2013.jpg/440px-Malala_Yousafzai_Oval_Office_11_Oct_2013.jpg 2x\" width=\"220\"/>,\n",
       " <img class=\"thumbimage\" data-file-height=\"3840\" data-file-width=\"5760\" decoding=\"async\" height=\"147\" src=\"//upload.wikimedia.org/wikipedia/commons/thumb/b/b6/Photo_de_famille_lors_de_la_remise_du_25e_prix_Sakharov_%C3%A0_Malala_Yousafzai_Strasbourg_20_novembre_2013_03.jpg/220px-Photo_de_famille_lors_de_la_remise_du_25e_prix_Sakharov_%C3%A0_Malala_Yousafzai_Strasbourg_20_novembre_2013_03.jpg\" srcset=\"//upload.wikimedia.org/wikipedia/commons/thumb/b/b6/Photo_de_famille_lors_de_la_remise_du_25e_prix_Sakharov_%C3%A0_Malala_Yousafzai_Strasbourg_20_novembre_2013_03.jpg/330px-Photo_de_famille_lors_de_la_remise_du_25e_prix_Sakharov_%C3%A0_Malala_Yousafzai_Strasbourg_20_novembre_2013_03.jpg 1.5x, //upload.wikimedia.org/wikipedia/commons/thumb/b/b6/Photo_de_famille_lors_de_la_remise_du_25e_prix_Sakharov_%C3%A0_Malala_Yousafzai_Strasbourg_20_novembre_2013_03.jpg/440px-Photo_de_famille_lors_de_la_remise_du_25e_prix_Sakharov_%C3%A0_Malala_Yousafzai_Strasbourg_20_novembre_2013_03.jpg 2x\" width=\"220\"/>,\n",
       " <img class=\"thumbimage\" data-file-height=\"2736\" data-file-width=\"4096\" decoding=\"async\" height=\"147\" src=\"//upload.wikimedia.org/wikipedia/commons/thumb/c/c3/John_Lewis_meets_with_Malala_Yousafzai_at_US_Capitol.jpg/220px-John_Lewis_meets_with_Malala_Yousafzai_at_US_Capitol.jpg\" srcset=\"//upload.wikimedia.org/wikipedia/commons/thumb/c/c3/John_Lewis_meets_with_Malala_Yousafzai_at_US_Capitol.jpg/330px-John_Lewis_meets_with_Malala_Yousafzai_at_US_Capitol.jpg 1.5x, //upload.wikimedia.org/wikipedia/commons/thumb/c/c3/John_Lewis_meets_with_Malala_Yousafzai_at_US_Capitol.jpg/440px-John_Lewis_meets_with_Malala_Yousafzai_at_US_Capitol.jpg 2x\" width=\"220\"/>,\n",
       " <img class=\"thumbimage\" data-file-height=\"2666\" data-file-width=\"3888\" decoding=\"async\" height=\"151\" src=\"//upload.wikimedia.org/wikipedia/commons/thumb/4/43/Malala%27s_shawl_at_the_Nobel_Museum_%2851982%29.jpg/220px-Malala%27s_shawl_at_the_Nobel_Museum_%2851982%29.jpg\" srcset=\"//upload.wikimedia.org/wikipedia/commons/thumb/4/43/Malala%27s_shawl_at_the_Nobel_Museum_%2851982%29.jpg/330px-Malala%27s_shawl_at_the_Nobel_Museum_%2851982%29.jpg 1.5x, //upload.wikimedia.org/wikipedia/commons/thumb/4/43/Malala%27s_shawl_at_the_Nobel_Museum_%2851982%29.jpg/440px-Malala%27s_shawl_at_the_Nobel_Museum_%2851982%29.jpg 2x\" width=\"220\"/>,\n",
       " <img alt=\"International Poetry Festival 2013 in Argentina\" class=\"thumbimage\" data-file-height=\"1536\" data-file-width=\"2048\" decoding=\"async\" height=\"165\" src=\"//upload.wikimedia.org/wikipedia/commons/thumb/8/89/Woman_Scream_International_Poetry_Festival_2013_to_honor_Malala_in_Argentina.jpg/220px-Woman_Scream_International_Poetry_Festival_2013_to_honor_Malala_in_Argentina.jpg\" srcset=\"//upload.wikimedia.org/wikipedia/commons/thumb/8/89/Woman_Scream_International_Poetry_Festival_2013_to_honor_Malala_in_Argentina.jpg/330px-Woman_Scream_International_Poetry_Festival_2013_to_honor_Malala_in_Argentina.jpg 1.5x, //upload.wikimedia.org/wikipedia/commons/thumb/8/89/Woman_Scream_International_Poetry_Festival_2013_to_honor_Malala_in_Argentina.jpg/440px-Woman_Scream_International_Poetry_Festival_2013_to_honor_Malala_in_Argentina.jpg 2x\" width=\"220\"/>,\n",
       " <img class=\"thumbimage\" data-file-height=\"2000\" data-file-width=\"3000\" decoding=\"async\" height=\"147\" src=\"//upload.wikimedia.org/wikipedia/commons/thumb/0/08/Malala_Yousafzai.jpg/220px-Malala_Yousafzai.jpg\" srcset=\"//upload.wikimedia.org/wikipedia/commons/thumb/0/08/Malala_Yousafzai.jpg/330px-Malala_Yousafzai.jpg 1.5x, //upload.wikimedia.org/wikipedia/commons/thumb/0/08/Malala_Yousafzai.jpg/440px-Malala_Yousafzai.jpg 2x\" width=\"220\"/>,\n",
       " <img class=\"thumbimage\" data-file-height=\"3840\" data-file-width=\"5760\" decoding=\"async\" height=\"147\" src=\"//upload.wikimedia.org/wikipedia/commons/thumb/b/ba/Remise_du_Prix_Sakharov_%C3%A0_Malala_Yousafzai_Strasbourg_20_novembre_2013_03.jpg/220px-Remise_du_Prix_Sakharov_%C3%A0_Malala_Yousafzai_Strasbourg_20_novembre_2013_03.jpg\" srcset=\"//upload.wikimedia.org/wikipedia/commons/thumb/b/ba/Remise_du_Prix_Sakharov_%C3%A0_Malala_Yousafzai_Strasbourg_20_novembre_2013_03.jpg/330px-Remise_du_Prix_Sakharov_%C3%A0_Malala_Yousafzai_Strasbourg_20_novembre_2013_03.jpg 1.5x, //upload.wikimedia.org/wikipedia/commons/thumb/b/ba/Remise_du_Prix_Sakharov_%C3%A0_Malala_Yousafzai_Strasbourg_20_novembre_2013_03.jpg/440px-Remise_du_Prix_Sakharov_%C3%A0_Malala_Yousafzai_Strasbourg_20_novembre_2013_03.jpg 2x\" width=\"220\"/>,\n",
       " <img class=\"thumbimage\" data-file-height=\"930\" data-file-width=\"1240\" decoding=\"async\" height=\"165\" src=\"//upload.wikimedia.org/wikipedia/commons/thumb/9/9e/FBISD_Malala_Elementary.jpg/220px-FBISD_Malala_Elementary.jpg\" srcset=\"//upload.wikimedia.org/wikipedia/commons/thumb/9/9e/FBISD_Malala_Elementary.jpg/330px-FBISD_Malala_Elementary.jpg 1.5x, //upload.wikimedia.org/wikipedia/commons/thumb/9/9e/FBISD_Malala_Elementary.jpg/440px-FBISD_Malala_Elementary.jpg 2x\" width=\"220\"/>]"
      ]
     },
     "execution_count": 6,
     "metadata": {},
     "output_type": "execute_result"
    }
   ],
   "source": [
    "# Here, I am getting all the pictures on the Wiki page of Malala Yusufzai\n",
    "\n",
    "import requests\n",
    "from bs4 import BeautifulSoup\n",
    "\n",
    "response = requests.get('https://en.wikipedia.org/wiki/Malala_Yousafzai')\n",
    "\n",
    "soup = BeautifulSoup(response.content, 'html.parser')\n",
    "\n",
    "image_info = soup.select('.thumbimage')\n",
    "\n",
    "image_info"
   ]
  },
  {
   "cell_type": "code",
   "execution_count": 7,
   "id": "c9b953e1",
   "metadata": {},
   "outputs": [
    {
     "data": {
      "text/plain": [
       "11"
      ]
     },
     "execution_count": 7,
     "metadata": {},
     "output_type": "execute_result"
    }
   ],
   "source": [
    "# I check how many they are because I am about to filter them \n",
    "\n",
    "len(image_info)"
   ]
  },
  {
   "cell_type": "code",
   "execution_count": 4,
   "id": "9baa237c",
   "metadata": {},
   "outputs": [
    {
     "name": "stdout",
     "output_type": "stream",
     "text": [
      "['/static/images/icons/wikipedia.png', '//upload.wikimedia.org/wikipedia/en/thumb/1/1b/Semi-protection-shackle.svg/20px-Semi-protection-shackle.svg.png', '//upload.wikimedia.org/wikipedia/commons/thumb/1/1b/Nuvola_apps_kaboodle.svg/16px-Nuvola_apps_kaboodle.svg.png', '//upload.wikimedia.org/wikipedia/en/thumb/6/69/P_vip.svg/28px-P_vip.svg.png', '//upload.wikimedia.org/wikipedia/en/thumb/8/8a/OOjs_UI_icon_edit-ltr-progressive.svg/10px-OOjs_UI_icon_edit-ltr-progressive.svg.png', '//upload.wikimedia.org/wikipedia/en/thumb/8/8a/OOjs_UI_icon_edit-ltr-progressive.svg/10px-OOjs_UI_icon_edit-ltr-progressive.svg.png', '//upload.wikimedia.org/wikipedia/en/thumb/9/96/Symbol_category_class.svg/16px-Symbol_category_class.svg.png', '//upload.wikimedia.org/wikipedia/en/thumb/9/96/Symbol_category_class.svg/16px-Symbol_category_class.svg.png', '//upload.wikimedia.org/wikipedia/en/thumb/8/8a/OOjs_UI_icon_edit-ltr-progressive.svg/10px-OOjs_UI_icon_edit-ltr-progressive.svg.png', '//en.wikipedia.org/wiki/Special:CentralAutoLogin/start?type=1x1']\n"
     ]
    }
   ],
   "source": [
    "# Here I am filtering them out according to height and width\n",
    "\n",
    "import requests\n",
    "from bs4 import BeautifulSoup\n",
    "\n",
    "response = requests.get('https://en.wikipedia.org/wiki/Malala_Yousafzai')\n",
    "\n",
    "soup = BeautifulSoup(response.content, 'html.parser')\n",
    "\n",
    "image_tags = soup.find_all('img')\n",
    "\n",
    "matching_images = []\n",
    "\n",
    "for image in image_tags:\n",
    "    # Check if the image has the same height and width\n",
    "    if image.has_attr('height') and image.has_attr('width') and image['height'] == image['width']:\n",
    "        # Add the image to the list if it meets the criteria\n",
    "        matching_images.append(image['src'])\n",
    "        \n",
    "print(matching_images)\n"
   ]
  },
  {
   "cell_type": "code",
   "execution_count": 5,
   "id": "0cc9d129",
   "metadata": {},
   "outputs": [
    {
     "data": {
      "text/plain": [
       "10"
      ]
     },
     "execution_count": 5,
     "metadata": {},
     "output_type": "execute_result"
    }
   ],
   "source": [
    "# I check how many they are again to see how many I filtered out\n",
    "\n",
    "len(matching_images)"
   ]
  },
  {
   "cell_type": "code",
   "execution_count": 34,
   "id": "d4566cdb",
   "metadata": {},
   "outputs": [
    {
     "name": "stdout",
     "output_type": "stream",
     "text": [
      "£51.77\n",
      "£53.74\n",
      "£50.10\n",
      "£47.82\n",
      "£54.23\n",
      "£22.65\n",
      "£33.34\n",
      "£17.93\n",
      "£22.60\n",
      "£52.15\n",
      "£13.99\n",
      "£20.66\n",
      "£17.46\n",
      "£52.29\n",
      "£35.02\n",
      "£57.25\n",
      "£23.88\n",
      "£37.59\n",
      "£51.33\n",
      "£45.17\n"
     ]
    }
   ],
   "source": [
    "# The rest of the cells are all me playing around with web scraping. I did whatever I felt like doing and had a lot of fun with \n",
    "# it\n",
    "\n",
    "prices = soup.select('.price_color')\n",
    "\n",
    "for price in prices:\n",
    "    print(price.text)\n"
   ]
  },
  {
   "cell_type": "code",
   "execution_count": 17,
   "id": "c906eedb",
   "metadata": {},
   "outputs": [
    {
     "name": "stdout",
     "output_type": "stream",
     "text": [
      "A Light in the ...\n",
      "Tipping the Velvet\n",
      "Soumission\n",
      "Sharp Objects\n",
      "Sapiens: A Brief History ...\n",
      "The Requiem Red\n",
      "The Dirty Little Secrets ...\n",
      "The Coming Woman: A ...\n",
      "The Boys in the ...\n",
      "The Black Maria\n",
      "Starving Hearts (Triangular Trade ...\n",
      "Shakespeare's Sonnets\n",
      "Set Me Free\n",
      "Scott Pilgrim's Precious Little ...\n",
      "Rip it Up and ...\n",
      "Our Band Could Be ...\n",
      "Olio\n",
      "Mesaerion: The Best Science ...\n",
      "Libertarianism for Beginners\n",
      "It's Only the Himalayas\n"
     ]
    }
   ],
   "source": [
    "# I learned about the find all method when I was doing this assignment\n",
    "\n",
    "titles = soup.find_all('h3')\n",
    "\n",
    "for title in titles:\n",
    "    print(title.text.strip())"
   ]
  },
  {
   "cell_type": "code",
   "execution_count": 72,
   "id": "455212bf",
   "metadata": {},
   "outputs": [
    {
     "name": "stdout",
     "output_type": "stream",
     "text": [
      "Books\n",
      "Travel\n",
      "Mystery\n",
      "Historical Fiction\n",
      "Sequential Art\n",
      "Classics\n",
      "Philosophy\n",
      "Romance\n",
      "Womens Fiction\n",
      "Fiction\n",
      "Childrens\n",
      "Religion\n",
      "Nonfiction\n",
      "Music\n",
      "Default\n",
      "Science Fiction\n",
      "Sports and Games\n",
      "Add a comment\n",
      "Fantasy\n",
      "New Adult\n",
      "Young Adult\n",
      "Science\n",
      "Poetry\n",
      "Paranormal\n",
      "Art\n",
      "Psychology\n",
      "Autobiography\n",
      "Parenting\n",
      "Adult Fiction\n",
      "Humor\n",
      "Horror\n",
      "History\n",
      "Food and Drink\n",
      "Christian Fiction\n",
      "Business\n",
      "Biography\n",
      "Thriller\n",
      "Contemporary\n",
      "Spirituality\n",
      "Academic\n",
      "Self Help\n",
      "Historical\n",
      "Christian\n",
      "Suspense\n",
      "Short Stories\n",
      "Novels\n",
      "Health\n",
      "Politics\n",
      "Cultural\n",
      "Erotica\n",
      "Crime\n"
     ]
    }
   ],
   "source": [
    "# I also learned to scrape using the method below apart from using .select or find_all\n",
    "\n",
    "categories = soup.find('div', {'class': 'side_categories'}).find_all('a')\n",
    "\n",
    "for category in categories:\n",
    "    print(category.text.strip())"
   ]
  },
  {
   "cell_type": "code",
   "execution_count": 145,
   "id": "c638f8da",
   "metadata": {},
   "outputs": [
    {
     "name": "stdout",
     "output_type": "stream",
     "text": [
      "Title: Sharp Objects\n",
      "Price: £47.82\n",
      "Availability: In stock (20 available)\n"
     ]
    }
   ],
   "source": [
    "import requests\n",
    "from bs4 import BeautifulSoup\n",
    "\n",
    "response = requests.get('http://books.toscrape.com/catalogue/sharp-objects_997/index.html')\n",
    "\n",
    "soup = BeautifulSoup(response.content, 'html.parser')\n",
    "\n",
    "title = soup.find('h1')\n",
    "title.text\n",
    "\n",
    "price = soup.find('p', {'class': 'price_color'}).text.strip()\n",
    "price\n",
    "\n",
    "availability = soup.find('p', {'class': 'instock availability'}).text.strip()\n",
    "availability\n",
    "\n",
    "print('Title:', title.text)\n",
    "print('Price:', price)\n",
    "print('Availability:', availability)"
   ]
  },
  {
   "cell_type": "code",
   "execution_count": 118,
   "id": "151db8f5",
   "metadata": {},
   "outputs": [
    {
     "name": "stdout",
     "output_type": "stream",
     "text": [
      "Category Name: Books\n",
      "Category URL: catalogue/category/books_1/index.html\n",
      "--------------------------------------------------\n",
      "Category Name: Travel\n",
      "Category URL: catalogue/category/books/travel_2/index.html\n",
      "--------------------------------------------------\n",
      "Category Name: Mystery\n",
      "Category URL: catalogue/category/books/mystery_3/index.html\n",
      "--------------------------------------------------\n",
      "Category Name: Historical Fiction\n",
      "Category URL: catalogue/category/books/historical-fiction_4/index.html\n",
      "--------------------------------------------------\n",
      "Category Name: Sequential Art\n",
      "Category URL: catalogue/category/books/sequential-art_5/index.html\n",
      "--------------------------------------------------\n",
      "Category Name: Classics\n",
      "Category URL: catalogue/category/books/classics_6/index.html\n",
      "--------------------------------------------------\n",
      "Category Name: Philosophy\n",
      "Category URL: catalogue/category/books/philosophy_7/index.html\n",
      "--------------------------------------------------\n",
      "Category Name: Romance\n",
      "Category URL: catalogue/category/books/romance_8/index.html\n",
      "--------------------------------------------------\n",
      "Category Name: Womens Fiction\n",
      "Category URL: catalogue/category/books/womens-fiction_9/index.html\n",
      "--------------------------------------------------\n",
      "Category Name: Fiction\n",
      "Category URL: catalogue/category/books/fiction_10/index.html\n",
      "--------------------------------------------------\n",
      "Category Name: Childrens\n",
      "Category URL: catalogue/category/books/childrens_11/index.html\n",
      "--------------------------------------------------\n",
      "Category Name: Religion\n",
      "Category URL: catalogue/category/books/religion_12/index.html\n",
      "--------------------------------------------------\n",
      "Category Name: Nonfiction\n",
      "Category URL: catalogue/category/books/nonfiction_13/index.html\n",
      "--------------------------------------------------\n",
      "Category Name: Music\n",
      "Category URL: catalogue/category/books/music_14/index.html\n",
      "--------------------------------------------------\n",
      "Category Name: Default\n",
      "Category URL: catalogue/category/books/default_15/index.html\n",
      "--------------------------------------------------\n",
      "Category Name: Science Fiction\n",
      "Category URL: catalogue/category/books/science-fiction_16/index.html\n",
      "--------------------------------------------------\n",
      "Category Name: Sports and Games\n",
      "Category URL: catalogue/category/books/sports-and-games_17/index.html\n",
      "--------------------------------------------------\n",
      "Category Name: Add a comment\n",
      "Category URL: catalogue/category/books/add-a-comment_18/index.html\n",
      "--------------------------------------------------\n",
      "Category Name: Fantasy\n",
      "Category URL: catalogue/category/books/fantasy_19/index.html\n",
      "--------------------------------------------------\n",
      "Category Name: New Adult\n",
      "Category URL: catalogue/category/books/new-adult_20/index.html\n",
      "--------------------------------------------------\n",
      "Category Name: Young Adult\n",
      "Category URL: catalogue/category/books/young-adult_21/index.html\n",
      "--------------------------------------------------\n",
      "Category Name: Science\n",
      "Category URL: catalogue/category/books/science_22/index.html\n",
      "--------------------------------------------------\n",
      "Category Name: Poetry\n",
      "Category URL: catalogue/category/books/poetry_23/index.html\n",
      "--------------------------------------------------\n",
      "Category Name: Paranormal\n",
      "Category URL: catalogue/category/books/paranormal_24/index.html\n",
      "--------------------------------------------------\n",
      "Category Name: Art\n",
      "Category URL: catalogue/category/books/art_25/index.html\n",
      "--------------------------------------------------\n",
      "Category Name: Psychology\n",
      "Category URL: catalogue/category/books/psychology_26/index.html\n",
      "--------------------------------------------------\n",
      "Category Name: Autobiography\n",
      "Category URL: catalogue/category/books/autobiography_27/index.html\n",
      "--------------------------------------------------\n",
      "Category Name: Parenting\n",
      "Category URL: catalogue/category/books/parenting_28/index.html\n",
      "--------------------------------------------------\n",
      "Category Name: Adult Fiction\n",
      "Category URL: catalogue/category/books/adult-fiction_29/index.html\n",
      "--------------------------------------------------\n",
      "Category Name: Humor\n",
      "Category URL: catalogue/category/books/humor_30/index.html\n",
      "--------------------------------------------------\n",
      "Category Name: Horror\n",
      "Category URL: catalogue/category/books/horror_31/index.html\n",
      "--------------------------------------------------\n",
      "Category Name: History\n",
      "Category URL: catalogue/category/books/history_32/index.html\n",
      "--------------------------------------------------\n",
      "Category Name: Food and Drink\n",
      "Category URL: catalogue/category/books/food-and-drink_33/index.html\n",
      "--------------------------------------------------\n",
      "Category Name: Christian Fiction\n",
      "Category URL: catalogue/category/books/christian-fiction_34/index.html\n",
      "--------------------------------------------------\n",
      "Category Name: Business\n",
      "Category URL: catalogue/category/books/business_35/index.html\n",
      "--------------------------------------------------\n",
      "Category Name: Biography\n",
      "Category URL: catalogue/category/books/biography_36/index.html\n",
      "--------------------------------------------------\n",
      "Category Name: Thriller\n",
      "Category URL: catalogue/category/books/thriller_37/index.html\n",
      "--------------------------------------------------\n",
      "Category Name: Contemporary\n",
      "Category URL: catalogue/category/books/contemporary_38/index.html\n",
      "--------------------------------------------------\n",
      "Category Name: Spirituality\n",
      "Category URL: catalogue/category/books/spirituality_39/index.html\n",
      "--------------------------------------------------\n",
      "Category Name: Academic\n",
      "Category URL: catalogue/category/books/academic_40/index.html\n",
      "--------------------------------------------------\n",
      "Category Name: Self Help\n",
      "Category URL: catalogue/category/books/self-help_41/index.html\n",
      "--------------------------------------------------\n",
      "Category Name: Historical\n",
      "Category URL: catalogue/category/books/historical_42/index.html\n",
      "--------------------------------------------------\n",
      "Category Name: Christian\n",
      "Category URL: catalogue/category/books/christian_43/index.html\n",
      "--------------------------------------------------\n",
      "Category Name: Suspense\n",
      "Category URL: catalogue/category/books/suspense_44/index.html\n",
      "--------------------------------------------------\n",
      "Category Name: Short Stories\n",
      "Category URL: catalogue/category/books/short-stories_45/index.html\n",
      "--------------------------------------------------\n",
      "Category Name: Novels\n",
      "Category URL: catalogue/category/books/novels_46/index.html\n",
      "--------------------------------------------------\n",
      "Category Name: Health\n",
      "Category URL: catalogue/category/books/health_47/index.html\n",
      "--------------------------------------------------\n",
      "Category Name: Politics\n",
      "Category URL: catalogue/category/books/politics_48/index.html\n",
      "--------------------------------------------------\n",
      "Category Name: Cultural\n",
      "Category URL: catalogue/category/books/cultural_49/index.html\n",
      "--------------------------------------------------\n",
      "Category Name: Erotica\n",
      "Category URL: catalogue/category/books/erotica_50/index.html\n",
      "--------------------------------------------------\n",
      "Category Name: Crime\n",
      "Category URL: catalogue/category/books/crime_51/index.html\n",
      "--------------------------------------------------\n"
     ]
    }
   ],
   "source": [
    "category_section = soup.find('div', {'class': 'side_categories'})\n",
    "\n",
    "categories = []\n",
    "for category in category_section.find_all('a'):\n",
    "    name = category.text.strip()\n",
    "    url = category.attrs['href']\n",
    "    categories.append({'name': name, 'url': url})\n",
    "\n",
    "for category in categories:\n",
    "    print('Category Name:', category['name'])\n",
    "    print('Category URL:', category['url'])\n",
    "    print('-' * 50)"
   ]
  },
  {
   "cell_type": "code",
   "execution_count": 120,
   "id": "d7117e4b",
   "metadata": {},
   "outputs": [
    {
     "data": {
      "text/plain": [
       "'Warning! This is a demo website for web scraping purposes. Prices and ratings here were randomly assigned and have no real meaning.'"
      ]
     },
     "execution_count": 120,
     "metadata": {},
     "output_type": "execute_result"
    }
   ],
   "source": [
    "warning = soup.find('div', {'class': 'alert-warning'}).text.strip()\n",
    "warning"
   ]
  },
  {
   "cell_type": "code",
   "execution_count": 122,
   "id": "3b036f27",
   "metadata": {},
   "outputs": [
    {
     "name": "stdout",
     "output_type": "stream",
     "text": [
      "A Light in the ... : £51.77\n",
      "Tipping the Velvet : £53.74\n",
      "Soumission : £50.10\n",
      "Sharp Objects : £47.82\n",
      "Sapiens: A Brief History ... : £54.23\n",
      "The Requiem Red : £22.65\n",
      "The Dirty Little Secrets ... : £33.34\n",
      "The Coming Woman: A ... : £17.93\n",
      "The Boys in the ... : £22.60\n",
      "The Black Maria : £52.15\n",
      "Starving Hearts (Triangular Trade ... : £13.99\n",
      "Shakespeare's Sonnets : £20.66\n",
      "Set Me Free : £17.46\n",
      "Scott Pilgrim's Precious Little ... : £52.29\n",
      "Rip it Up and ... : £35.02\n",
      "Our Band Could Be ... : £57.25\n",
      "Olio : £23.88\n",
      "Mesaerion: The Best Science ... : £37.59\n",
      "Libertarianism for Beginners : £51.33\n",
      "It's Only the Himalayas : £45.17\n"
     ]
    }
   ],
   "source": [
    "# I learned what a zip function is and how it's used while doing this assignment\n",
    "\n",
    "book_titles = soup.find_all('h3')\n",
    "book_prices = soup.find_all('p', class_='price_color')\n",
    "\n",
    "for title, price in zip(book_titles, book_prices):\n",
    "    print(title.text + ' : ' + price.text)"
   ]
  },
  {
   "cell_type": "code",
   "execution_count": 143,
   "id": "b85a4625",
   "metadata": {
    "scrolled": true
   },
   "outputs": [
    {
     "name": "stdout",
     "output_type": "stream",
     "text": [
      "http://books.toscrape.com/media/cache/2c/da/2cdad67c44b002e7ead0cc35693c0e8b.jpg\n",
      "http://books.toscrape.com/media/cache/26/0c/260c6ae16bce31c8f8c95daddd9f4a1c.jpg\n",
      "http://books.toscrape.com/media/cache/3e/ef/3eef99c9d9adef34639f510662022830.jpg\n",
      "http://books.toscrape.com/media/cache/32/51/3251cf3a3412f53f339e42cac2134093.jpg\n",
      "http://books.toscrape.com/media/cache/be/a5/bea5697f2534a2f86a3ef27b5a8c12a6.jpg\n",
      "http://books.toscrape.com/media/cache/68/33/68339b4c9bc034267e1da611ab3b34f8.jpg\n",
      "http://books.toscrape.com/media/cache/92/27/92274a95b7c251fea59a2b8a78275ab4.jpg\n",
      "http://books.toscrape.com/media/cache/3d/54/3d54940e57e662c4dd1f3ff00c78cc64.jpg\n",
      "http://books.toscrape.com/media/cache/66/88/66883b91f6804b2323c8369331cb7dd1.jpg\n",
      "http://books.toscrape.com/media/cache/58/46/5846057e28022268153beff6d352b06c.jpg\n",
      "http://books.toscrape.com/media/cache/be/f4/bef44da28c98f905a3ebec0b87be8530.jpg\n",
      "http://books.toscrape.com/media/cache/10/48/1048f63d3b5061cd2f424d20b3f9b666.jpg\n",
      "http://books.toscrape.com/media/cache/5b/88/5b88c52633f53cacf162c15f4f823153.jpg\n",
      "http://books.toscrape.com/media/cache/94/b1/94b1b8b244bce9677c2f29ccc890d4d2.jpg\n",
      "http://books.toscrape.com/media/cache/81/c4/81c4a973364e17d01f217e1188253d5e.jpg\n",
      "http://books.toscrape.com/media/cache/54/60/54607fe8945897cdcced0044103b10b6.jpg\n",
      "http://books.toscrape.com/media/cache/55/33/553310a7162dfbc2c6d19a84da0df9e1.jpg\n",
      "http://books.toscrape.com/media/cache/09/a3/09a3aef48557576e1a85ba7efea8ecb7.jpg\n",
      "http://books.toscrape.com/media/cache/0b/bc/0bbcd0a6f4bcd81ccb1049a52736406e.jpg\n",
      "http://books.toscrape.com/media/cache/27/a5/27a53d0bb95bdd88288eaf66c9230d7e.jpg\n"
     ]
    }
   ],
   "source": [
    "image_thumbnail = soup.select('.thumbnail')\n",
    "\n",
    "for link in image_thumbnail:\n",
    "    item = link.get('src')\n",
    "    print('http://books.toscrape.com/' + item)"
   ]
  },
  {
   "cell_type": "code",
   "execution_count": null,
   "id": "ca08aba2",
   "metadata": {},
   "outputs": [],
   "source": []
  },
  {
   "cell_type": "code",
   "execution_count": null,
   "id": "fc73be8e",
   "metadata": {},
   "outputs": [],
   "source": []
  },
  {
   "cell_type": "code",
   "execution_count": null,
   "id": "b4448519",
   "metadata": {},
   "outputs": [],
   "source": []
  }
 ],
 "metadata": {
  "kernelspec": {
   "display_name": "Python 3 (ipykernel)",
   "language": "python",
   "name": "python3"
  },
  "language_info": {
   "codemirror_mode": {
    "name": "ipython",
    "version": 3
   },
   "file_extension": ".py",
   "mimetype": "text/x-python",
   "name": "python",
   "nbconvert_exporter": "python",
   "pygments_lexer": "ipython3",
   "version": "3.9.13"
  }
 },
 "nbformat": 4,
 "nbformat_minor": 5
}
