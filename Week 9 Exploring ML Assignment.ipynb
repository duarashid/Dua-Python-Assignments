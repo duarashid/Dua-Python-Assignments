{
 "cells": [
  {
   "cell_type": "markdown",
   "id": "36f2d076",
   "metadata": {},
   "source": [
    "This drive has a Jupyter file that talks about what I did along with images and a video. \n",
    "\n",
    "https://drive.google.com/drive/folders/1XGti1X08PDYcYDjm1BvvNV_0rDqwAyBu?usp=sharing"
   ]
  }
 ],
 "metadata": {
  "kernelspec": {
   "display_name": "Python 3 (ipykernel)",
   "language": "python",
   "name": "python3"
  },
  "language_info": {
   "codemirror_mode": {
    "name": "ipython",
    "version": 3
   },
   "file_extension": ".py",
   "mimetype": "text/x-python",
   "name": "python",
   "nbconvert_exporter": "python",
   "pygments_lexer": "ipython3",
   "version": "3.9.13"
  }
 },
 "nbformat": 4,
 "nbformat_minor": 5
}
